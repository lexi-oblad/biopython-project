{
 "cells": [
  {
   "cell_type": "markdown",
   "metadata": {},
   "source": [
    "# Lexi's Bioinformatics Workbook"
   ]
  },
  {
   "cell_type": "markdown",
   "metadata": {},
   "source": [
    "My experiments using biopython to transcribe and translate the SARS-CoV-2 virus genome"
   ]
  },
  {
   "cell_type": "code",
   "execution_count": 6,
   "metadata": {},
   "outputs": [
    {
     "name": "stdout",
     "output_type": "stream",
     "text": [
      "ID: MN908947.3\n",
      "Name: MN908947.3\n",
      "Description: MN908947.3 Severe acute respiratory syndrome coronavirus 2 isolate Wuhan-Hu-1, complete genome\n",
      "Number of features: 0\n",
      "Seq('ATTAAAGGTTTATACCTTCCCAGGTAACAAACCAACCAACTTTCGATCTCTTGT...AAA', SingleLetterAlphabet())\n"
     ]
    }
   ],
   "source": [
    "from Bio import SeqIO\n",
    "covid_seq_record = SeqIO.read(\"dataset/genome.fna\", \"fasta\")\n",
    "print(covid_seq_record)"
   ]
  },
  {
   "cell_type": "markdown",
   "metadata": {},
   "source": [
    "We remove the last 2 characters from the virus DNA sequence in order to allow translation to complete in multiples of 3 then test using the modulus operator. "
   ]
  },
  {
   "cell_type": "code",
   "execution_count": 7,
   "metadata": {},
   "outputs": [],
   "source": [
    "covid_seq_record.seq = covid_seq_record.seq[:-2]\n",
    "covid_seq = covid_seq_record.seq\n",
    "assert len(covid_seq) % 3 == 0"
   ]
  },
  {
   "cell_type": "code",
   "execution_count": 12,
   "metadata": {},
   "outputs": [
    {
     "name": "stdout",
     "output_type": "stream",
     "text": [
      "DNA: ATTAAAGGTTTATACCTTCCCAGGTAACAAACCAACCAACTTTCGATCTCTTGTAGATCTGTTCTCTAAACGAACTTTAAAATCTGTGTGGCTGTCACTC...AAA\n"
     ]
    }
   ],
   "source": [
    "print(f\"DNA: {covid_seq[:100]}...{covid_seq[-3:]}\")"
   ]
  },
  {
   "cell_type": "markdown",
   "metadata": {},
   "source": [
    "Transcribes the virus DNA into mRNA. Changes the thymines from the DNA to uracils in the mRNA. "
   ]
  },
  {
   "cell_type": "code",
   "execution_count": 13,
   "metadata": {},
   "outputs": [
    {
     "name": "stdout",
     "output_type": "stream",
     "text": [
      "mRNA: AUUAAAGGUUUAUACCUUCCCAGGUAACAAACCAACCAACUUUCGAUCUCUUGUAGAUCUGUUCUCUAAACGAACUUUAAAAUCUGUGUGGCUGUCACU...AAA\n"
     ]
    }
   ],
   "source": [
    "mRNA = covid_seq.transcribe()\n",
    "print(\"mRNA: \" + mRNA[:99] + \"...\" + mRNA[-3:])"
   ]
  },
  {
   "cell_type": "markdown",
   "metadata": {},
   "source": [
    "Translates the virus mRNA into an amino acid sequence. Takes every 3 characters (a codon) from the mRNA sequence and outputs an amino acid. "
   ]
  },
  {
   "cell_type": "code",
   "execution_count": 14,
   "metadata": {},
   "outputs": [
    {
     "name": "stdout",
     "output_type": "stream",
     "text": [
      "Amino Acid Sequence: IKGLYLPR*QTNQLSISCRSVL*TNFKICVAVT\n"
     ]
    }
   ],
   "source": [
    "aa_seq = mRNA.translate()\n",
    "print(\"Amino Acid Sequence: \" + aa_seq[:33])"
   ]
  },
  {
   "cell_type": "markdown",
   "metadata": {},
   "source": [
    "The * symbol stands for the stop codons: UGA, UAA, and UAG\n",
    "This splits on the stop codons to form a list of proteins"
   ]
  },
  {
   "cell_type": "code",
   "execution_count": 15,
   "metadata": {},
   "outputs": [
    {
     "name": "stdout",
     "output_type": "stream",
     "text": [
      "[Seq('IKGLYLPR', HasStopCodon(ExtendedIUPACProtein(), '*')), Seq('QTNQLSISCRSVL', HasStopCodon(ExtendedIUPACProtein(), '*')), Seq('TNFKICVAVTRLHA', HasStopCodon(ExtendedIUPACProtein(), '*')), Seq('CTHAV', HasStopCodon(ExtendedIUPACProtein(), '*')), Seq('LITNYCR', HasStopCodon(ExtendedIUPACProtein(), '*')), Seq('QDTSNSSIFCRLLTVSSVLQPIISTSRFRPGVTER', HasStopCodon(ExtendedIUPACProtein(), '*')), Seq('DGEPCPWFQRENTRPTQFACFTGSRRARTWLWRLRGGGLIRGTSTS', HasStopCodon(ExtendedIUPACProtein(), '*')), Seq('RWHLWLSRS', HasStopCodon(ExtendedIUPACProtein(), '*')), Seq('KRRFAST', HasStopCodon(ExtendedIUPACProtein(), '*')), Seq('TALCVHQTFGCSNCTSWSCYG', HasStopCodon(ExtendedIUPACProtein(), '*'))]\n"
     ]
    }
   ],
   "source": [
    "proteins = aa_seq.split(\"*\")\n",
    "print(proteins[:10])"
   ]
  },
  {
   "cell_type": "code",
   "execution_count": null,
   "metadata": {},
   "outputs": [],
   "source": []
  }
 ],
 "metadata": {
  "kernelspec": {
   "display_name": "Python 3",
   "language": "python",
   "name": "python3"
  },
  "language_info": {
   "codemirror_mode": {
    "name": "ipython",
    "version": 3
   },
   "file_extension": ".py",
   "mimetype": "text/x-python",
   "name": "python",
   "nbconvert_exporter": "python",
   "pygments_lexer": "ipython3",
   "version": "3.8.3"
  }
 },
 "nbformat": 4,
 "nbformat_minor": 4
}
